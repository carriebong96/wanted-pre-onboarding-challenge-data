{
 "cells": [
  {
   "cell_type": "code",
   "execution_count": 33,
   "id": "4637ae34",
   "metadata": {},
   "outputs": [
    {
     "name": "stdout",
     "output_type": "stream",
     "text": [
      "Collecting numpy\n",
      "  Downloading numpy-1.25.0-cp310-cp310-macosx_10_9_x86_64.whl (20.1 MB)\n",
      "\u001b[2K     \u001b[90m━━━━━━━━━━━━━━━━━━━━━━━━━━━━━━━━━━━━━━━━\u001b[0m \u001b[32m20.1/20.1 MB\u001b[0m \u001b[31m21.8 MB/s\u001b[0m eta \u001b[36m0:00:00\u001b[0m00:01\u001b[0m00:01\u001b[0m\n",
      "\u001b[?25hInstalling collected packages: numpy\n",
      "Successfully installed numpy-1.25.0\n",
      "\u001b[33mWARNING: You are using pip version 22.0.4; however, version 23.1.2 is available.\n",
      "You should consider upgrading via the '/usr/local/bin/python3 -m pip install --upgrade pip' command.\u001b[0m\u001b[33m\n",
      "\u001b[0mNote: you may need to restart the kernel to use updated packages.\n"
     ]
    }
   ],
   "source": [
    "%pip install numpy"
   ]
  },
  {
   "cell_type": "code",
   "execution_count": 1,
   "id": "7d34f957",
   "metadata": {},
   "outputs": [],
   "source": [
    "# 필요한 라이브러리를 불러옵니다.\n",
    "import numpy as np"
   ]
  },
  {
   "cell_type": "markdown",
   "id": "e35027db",
   "metadata": {},
   "source": [
    "### 1. 값이 10~49인 numpy array를 만드세요"
   ]
  },
  {
   "cell_type": "code",
   "execution_count": 7,
   "id": "186a443c",
   "metadata": {},
   "outputs": [
    {
     "name": "stdout",
     "output_type": "stream",
     "text": [
      "[10 11 12 13 14 15 16 17 18 19 20 21 22 23 24 25 26 27 28 29 30 31 32 33\n",
      " 34 35 36 37 38 39 40 41 42 43 44 45 46 47 48 49]\n"
     ]
    }
   ],
   "source": [
    "z = np.array(range(10,50))\n",
    "print(z)"
   ]
  },
  {
   "cell_type": "markdown",
   "id": "7fe92102",
   "metadata": {},
   "source": [
    "### 2. z를 반전하세요."
   ]
  },
  {
   "attachments": {},
   "cell_type": "markdown",
   "id": "1787a7f4",
   "metadata": {},
   "source": [
    "#### array 반전 방법 1"
   ]
  },
  {
   "cell_type": "code",
   "execution_count": 9,
   "id": "f78638fa",
   "metadata": {},
   "outputs": [
    {
     "name": "stdout",
     "output_type": "stream",
     "text": [
      "[49 48 47 46 45 44 43 42 41 40 39 38 37 36 35 34 33 32 31 30 29 28 27 26\n",
      " 25 24 23 22 21 20 19 18 17 16 15 14 13 12 11 10]\n"
     ]
    }
   ],
   "source": [
    "z = z[::-1]\n",
    "print(z)"
   ]
  },
  {
   "attachments": {},
   "cell_type": "markdown",
   "id": "cefaa99f",
   "metadata": {},
   "source": [
    "#### array 반전 방법 2"
   ]
  },
  {
   "cell_type": "code",
   "execution_count": 11,
   "id": "5e2a22c2",
   "metadata": {},
   "outputs": [
    {
     "name": "stdout",
     "output_type": "stream",
     "text": [
      "[49 48 47 46 45 44 43 42 41 40 39 38 37 36 35 34 33 32 31 30 29 28 27 26\n",
      " 25 24 23 22 21 20 19 18 17 16 15 14 13 12 11 10]\n"
     ]
    }
   ],
   "source": [
    "z = np.array(range(49,9,-1))\n",
    "print(z)"
   ]
  },
  {
   "cell_type": "markdown",
   "id": "a04b347c",
   "metadata": {},
   "source": [
    "### 3. 반전시킨 z 매트릭스를 10 x 4 매트릭스로 바꾸세요."
   ]
  },
  {
   "cell_type": "code",
   "execution_count": 13,
   "id": "fcf79ba9",
   "metadata": {},
   "outputs": [
    {
     "name": "stdout",
     "output_type": "stream",
     "text": [
      "[[49 48 47 46]\n",
      " [45 44 43 42]\n",
      " [41 40 39 38]\n",
      " [37 36 35 34]\n",
      " [33 32 31 30]\n",
      " [29 28 27 26]\n",
      " [25 24 23 22]\n",
      " [21 20 19 18]\n",
      " [17 16 15 14]\n",
      " [13 12 11 10]]\n"
     ]
    }
   ],
   "source": [
    "z = z.reshape(10,4)\n",
    "print(z)"
   ]
  },
  {
   "cell_type": "markdown",
   "id": "a8fb1466",
   "metadata": {},
   "source": [
    "### 4. x에서 0이 아닌 요소의 색인을 찾아보세요."
   ]
  },
  {
   "cell_type": "code",
   "execution_count": 17,
   "id": "0b0944c7",
   "metadata": {},
   "outputs": [
    {
     "name": "stdout",
     "output_type": "stream",
     "text": [
      "(array([0, 1, 2, 4, 6]),)\n"
     ]
    }
   ],
   "source": [
    "x = np.array([5,6,8,0,1,0,7])\n",
    "nz_idx = np.where(x!=0)\n",
    "print(nz_idx)"
   ]
  },
  {
   "cell_type": "markdown",
   "id": "fb98a12e",
   "metadata": {},
   "source": [
    "### nan 값 이해하기\n",
    "\n"
   ]
  },
  {
   "attachments": {},
   "cell_type": "markdown",
   "id": "759a66b2",
   "metadata": {},
   "source": [
    "* nan은 수학적으로 정의되지 않거나 정의할 수 없는 값을 나타내는 특수한 값입니다. 따라서 nan 값은 다른 nan 값과 비교하더라도 항상 False를 반환합니다. 이것은 nan 값이 정의되지 않았거나 정의할 수 없기 때문에 비교 결과를 판단할 수 없기 때문입니다.\n",
    "\n"
   ]
  },
  {
   "cell_type": "code",
   "execution_count": 21,
   "id": "7d12b519",
   "metadata": {},
   "outputs": [
    {
     "name": "stdout",
     "output_type": "stream",
     "text": [
      "False\n",
      "True\n"
     ]
    }
   ],
   "source": [
    "print(np.nan == np.nan) # nan끼리 비교하면 false 반환\n",
    "print(np.isnan(np.nan)) # nan값인지 검사한 결과 -> True"
   ]
  },
  {
   "cell_type": "code",
   "execution_count": 27,
   "id": "6330d5bb",
   "metadata": {},
   "outputs": [
    {
     "name": "stdout",
     "output_type": "stream",
     "text": [
      "3*0.1 : 0.30000000000000004\n",
      "False\n",
      "-----------------\n",
      "0.1+0.2 : 0.30000000000000004\n",
      "True\n"
     ]
    }
   ],
   "source": [
    "import math\n",
    "print('3*0.1 :',3*0.1)\n",
    "print(0.3 == 3 * 0.1) # 이는 부동소수점 연산으로 인한 차이이다.\n",
    "print('-----------------')\n",
    "print('0.1+0.2 :',0.1+0.2)\n",
    "print(math.isclose(0.1 + 0.2, 0.3)) # .isclose 메소드를 이용하여 부동 소수점 값의 근사 비교를 수행하여 True 또는 False를 반환"
   ]
  },
  {
   "cell_type": "markdown",
   "id": "87f765ae",
   "metadata": {},
   "source": [
    "### 5. 12 x 12 매트릭스를 만들어 바둑판 패턴으로 0과 1을 채우세요"
   ]
  },
  {
   "cell_type": "code",
   "execution_count": 89,
   "id": "c5dade12",
   "metadata": {},
   "outputs": [
    {
     "name": "stdout",
     "output_type": "stream",
     "text": [
      "[[0. 0. 0. 0. 0. 0. 0. 0. 0. 0. 0. 0.]\n",
      " [0. 0. 0. 0. 0. 0. 0. 0. 0. 0. 0. 0.]\n",
      " [0. 0. 0. 0. 0. 0. 0. 0. 0. 0. 0. 0.]\n",
      " [0. 0. 0. 0. 0. 0. 0. 0. 0. 0. 0. 0.]\n",
      " [0. 0. 0. 0. 0. 0. 0. 0. 0. 0. 0. 0.]\n",
      " [0. 0. 0. 0. 0. 0. 0. 0. 0. 0. 0. 0.]\n",
      " [0. 0. 0. 0. 0. 0. 0. 0. 0. 0. 0. 0.]\n",
      " [0. 0. 0. 0. 0. 0. 0. 0. 0. 0. 0. 0.]\n",
      " [0. 0. 0. 0. 0. 0. 0. 0. 0. 0. 0. 0.]\n",
      " [0. 0. 0. 0. 0. 0. 0. 0. 0. 0. 0. 0.]\n",
      " [0. 0. 0. 0. 0. 0. 0. 0. 0. 0. 0. 0.]\n",
      " [0. 0. 0. 0. 0. 0. 0. 0. 0. 0. 0. 0.]]\n",
      "\n",
      "[[0. 1. 0. 1. 0. 1. 0. 1. 0. 1. 0. 1.]\n",
      " [1. 0. 1. 0. 1. 0. 1. 0. 1. 0. 1. 0.]\n",
      " [0. 1. 0. 1. 0. 1. 0. 1. 0. 1. 0. 1.]\n",
      " [1. 0. 1. 0. 1. 0. 1. 0. 1. 0. 1. 0.]\n",
      " [0. 1. 0. 1. 0. 1. 0. 1. 0. 1. 0. 1.]\n",
      " [1. 0. 1. 0. 1. 0. 1. 0. 1. 0. 1. 0.]\n",
      " [0. 1. 0. 1. 0. 1. 0. 1. 0. 1. 0. 1.]\n",
      " [1. 0. 1. 0. 1. 0. 1. 0. 1. 0. 1. 0.]\n",
      " [0. 1. 0. 1. 0. 1. 0. 1. 0. 1. 0. 1.]\n",
      " [1. 0. 1. 0. 1. 0. 1. 0. 1. 0. 1. 0.]\n",
      " [0. 1. 0. 1. 0. 1. 0. 1. 0. 1. 0. 1.]\n",
      " [1. 0. 1. 0. 1. 0. 1. 0. 1. 0. 1. 0.]]\n"
     ]
    }
   ],
   "source": [
    "x = np.zeros((12, 12))\n",
    "print(x, end='\\n\\n')\n",
    "###############\n",
    "# 슬라이싱을 사용하세요\n",
    "\n",
    "# 홀수 줄에 0,1,0,1\n",
    "x[0::2,1::2] = 1 # x[0::2][1::2] = 1로 해서 계속 잘못된 값을 반환받았음\n",
    "x[0::2,0::2] = 0\n",
    "\n",
    "x[1::2,0::2] = 1\n",
    "x[1::2,1::2] = 0\n",
    "\n",
    "###############\n",
    "print(x)"
   ]
  },
  {
   "attachments": {},
   "cell_type": "markdown",
   "id": "63d921e1",
   "metadata": {},
   "source": [
    "\n",
    "```x[0::2][1::2] = 1```은 NumPy 배열 x의 짝수 줄(행)에서 홀수 줄(행)을 선택하여 해당 영역의 요소를 1로 설정하는 코드입니다. 하지만 이 방식은 예상한 결과와 다른 동작을 할 수 있습니다.\n",
    "\n",
    "NumPy에서 이러한 방식으로 슬라이싱을 연속해서 사용하면, 반환되는 배열의 차원이 변경될 수 있습니다. 첫 번째 슬라이싱을 수행한 결과는 2차원 배열이지만, 두 번째 슬라이싱을 수행할 때 이전 결과인 2차원 배열의 행을 선택하므로서 차원이 변경됩니다."
   ]
  },
  {
   "cell_type": "markdown",
   "id": "8765875e",
   "metadata": {},
   "source": [
    "### 6. np.tile 을 이용해서 동일한 바둑판 배턴을 만들어보세요"
   ]
  },
  {
   "cell_type": "code",
   "execution_count": 99,
   "id": "fe6834dd",
   "metadata": {},
   "outputs": [
    {
     "name": "stdout",
     "output_type": "stream",
     "text": [
      "[[0 1 0 1 0 1 0 1 0 1 0 1]\n",
      " [1 0 1 0 1 0 1 0 1 0 1 0]\n",
      " [0 1 0 1 0 1 0 1 0 1 0 1]\n",
      " [1 0 1 0 1 0 1 0 1 0 1 0]\n",
      " [0 1 0 1 0 1 0 1 0 1 0 1]\n",
      " [1 0 1 0 1 0 1 0 1 0 1 0]\n",
      " [0 1 0 1 0 1 0 1 0 1 0 1]\n",
      " [1 0 1 0 1 0 1 0 1 0 1 0]\n",
      " [0 1 0 1 0 1 0 1 0 1 0 1]\n",
      " [1 0 1 0 1 0 1 0 1 0 1 0]\n",
      " [0 1 0 1 0 1 0 1 0 1 0 1]\n",
      " [1 0 1 0 1 0 1 0 1 0 1 0]]\n"
     ]
    }
   ],
   "source": [
    "x = np.array([[0,1],\n",
    "             [1,0]])\n",
    "new_x = np.tile(x,(6,6))\n",
    "print(new_x)"
   ]
  },
  {
   "cell_type": "markdown",
   "id": "b1a5847c",
   "metadata": {},
   "source": [
    "### 7. 1차원 배열이 x에서 값이 5~10인 요소를 0으로 바꾸세요"
   ]
  },
  {
   "attachments": {},
   "cell_type": "markdown",
   "id": "0574015c",
   "metadata": {},
   "source": [
    "#### 방법 1"
   ]
  },
  {
   "cell_type": "code",
   "execution_count": 106,
   "id": "bd215833",
   "metadata": {},
   "outputs": [
    {
     "name": "stdout",
     "output_type": "stream",
     "text": [
      "[ 2  5  3  8  3 34 23  7 10]\n",
      "[ 2  0  3  0  3 34 23  0  0]\n"
     ]
    }
   ],
   "source": [
    "x = np.array([2,5,3,8,3,34,23,7,10])\n",
    "print(x)\n",
    "##################\n",
    "# 필터링을 사용하세요.\n",
    "x[(x>=5) & (x<=10)] = 0\n",
    "\n",
    "##################\n",
    "print(x)"
   ]
  },
  {
   "attachments": {},
   "cell_type": "markdown",
   "id": "3aa41c24",
   "metadata": {},
   "source": [
    "#### 방법 2"
   ]
  },
  {
   "cell_type": "code",
   "execution_count": 108,
   "id": "025e85ac",
   "metadata": {},
   "outputs": [
    {
     "name": "stdout",
     "output_type": "stream",
     "text": [
      "[ 2  5  3  8  3 34 23  7 10]\n",
      "[ 2  0  3  0  3 34 23  0  0]\n"
     ]
    }
   ],
   "source": [
    "x = np.array([2,5,3,8,3,34,23,7,10])\n",
    "print(x)\n",
    "##################\n",
    "# 필터링을 사용하세요.\n",
    "new_x = np.where((x>=5) & (x<=10),0,x) # np.where(condition, x, y)\n",
    "\n",
    "##################\n",
    "print(new_x)"
   ]
  },
  {
   "cell_type": "markdown",
   "id": "d5bd1501",
   "metadata": {},
   "source": [
    "### 8. 0에서 100 사이의 값으로 크기가 10인 1차원 array를 만드세요"
   ]
  },
  {
   "cell_type": "code",
   "execution_count": 110,
   "id": "88e38f0e",
   "metadata": {},
   "outputs": [
    {
     "name": "stdout",
     "output_type": "stream",
     "text": [
      "[  0.          11.11111111  22.22222222  33.33333333  44.44444444\n",
      "  55.55555556  66.66666667  77.77777778  88.88888889 100.        ]\n"
     ]
    }
   ],
   "source": [
    "x = np.linspace(0,100,10)\n",
    "print(x)"
   ]
  },
  {
   "attachments": {},
   "cell_type": "markdown",
   "id": "df6bb52e",
   "metadata": {},
   "source": [
    "np.linspace() 함수는 지정된 시작 값과 종료 값 사이에서 균일한 간격으로 일정 개수의 숫자를 생성"
   ]
  },
  {
   "cell_type": "markdown",
   "id": "143e78e1",
   "metadata": {},
   "source": [
    "### 9. np.allclose() 함수를 사용하여 2개의 array가 같은지를 확인해보세요"
   ]
  },
  {
   "attachments": {},
   "cell_type": "markdown",
   "id": "0055127a",
   "metadata": {},
   "source": [
    "np.allclose() 함수는 NumPy에서 제공하는 함수로, 두 배열 또는 값의 모든 요소가 거의 동일한지 확인하는 역할을 합니다. 이 함수는 부동 소수점 값의 동등성을 평가할 때 유용하게 사용됩니다.\n",
    "\n",
    "```np.allclose(a, b, rtol=1e-05, atol=1e-08, equal_nan=False) ```\n",
    "\n",
    "- a, b: 비교할 배열 또는 값\n",
    "- rtol: 상대적인 허용 오차(relative tolerance) (기본값: 1e-05)\n",
    "- atol: 절대적인 허용 오차(absolute tolerance) (기본값: 1e-08)\n",
    "- equal_nan: NaN(Not a Number) 값의 처리 여부 (기본값: False)"
   ]
  },
  {
   "cell_type": "code",
   "execution_count": 111,
   "id": "56449e50",
   "metadata": {},
   "outputs": [
    {
     "name": "stdout",
     "output_type": "stream",
     "text": [
      "True\n"
     ]
    }
   ],
   "source": [
    "A = np.array([1e10,1e-8])\n",
    "B = np.array([1.00001e10,1e-9])\n",
    "\n",
    "equal = np.allclose(A,B)\n",
    "print(equal)"
   ]
  },
  {
   "cell_type": "markdown",
   "id": "26819557",
   "metadata": {},
   "source": [
    "### 10. 데카르트 좌표를 나타내는 랜덤 8 x 2 행렬을 고려하여 극좌표로 변환해보세요."
   ]
  },
  {
   "attachments": {},
   "cell_type": "markdown",
   "id": "ac16e869",
   "metadata": {},
   "source": [
    "...? 이게뭐지?\n",
    "\n",
    "```극 좌표(polar coordinates)```는 평면 위의 점을 나타내는 좌표 체계입니다. 직교 좌표계인 직각 좌표계(cartesian coordinates)와는 달리, 극 좌표는 점의 위치를 반지름과 각도로 표현합니다.\n",
    "\n",
    "극 좌표는 일반적으로 원점(원의 중심)을 기준으로 점의 위치를 나타내며, 두 가지 주요한 구성 요소로 이루어집니다:\n",
    "\n",
    "반지름(radius): 원점에서 점까지의 거리를 나타내는 값입니다. 일반적으로 양의 실수로 표현됩니다.\n",
    "\n",
    "각도(angle): 원점에서 점까지의 선분과 양의 x축 사이의 각도를 나타내는 값입니다. 일반적으로 각도는 라디안(radian) 단위로 표현되며, 0부터 시작하여 반시계 방향으로 측정됩니다."
   ]
  },
  {
   "cell_type": "code",
   "execution_count": 115,
   "id": "4136e249",
   "metadata": {},
   "outputs": [
    {
     "name": "stdout",
     "output_type": "stream",
     "text": [
      "[[1.02912252 1.31869178]\n",
      " [0.98776643 0.24152173]\n",
      " [0.76684164 0.72386309]\n",
      " [0.23583534 1.56121837]\n",
      " [0.39659343 1.46421879]\n",
      " [0.66336877 0.61215834]\n",
      " [1.00021031 0.60975849]\n",
      " [0.67624833 0.97076688]\n",
      " [0.57576061 0.02073696]\n",
      " [0.78827232 0.88559908]]\n"
     ]
    }
   ],
   "source": [
    "coord = np.random.random((10,2))\n",
    "x, y = coord[:,0], coord[:,1]\n",
    "r = np.sqrt(x**2+y**2) # 반지름 구하기. (x**2+y**2)**0.5로도 동일한 계산을 할 수 있다. \n",
    "theta = np.arctan2(y, x)\n",
    "ploar_coord = np.concatenate([r[:,np.newaxis], theta[:,np.newaxis]],axis=1)\n",
    "print(ploar_coord)"
   ]
  },
  {
   "attachments": {},
   "cell_type": "markdown",
   "id": "40708824",
   "metadata": {},
   "source": [
    "이렇게 하는게 맞나"
   ]
  },
  {
   "cell_type": "markdown",
   "id": "bfa43d35",
   "metadata": {},
   "source": []
  }
 ],
 "metadata": {
  "kernelspec": {
   "display_name": "Python 3 (ipykernel)",
   "language": "python",
   "name": "python3"
  },
  "language_info": {
   "codemirror_mode": {
    "name": "ipython",
    "version": 3
   },
   "file_extension": ".py",
   "mimetype": "text/x-python",
   "name": "python",
   "nbconvert_exporter": "python",
   "pygments_lexer": "ipython3",
   "version": "3.10.5"
  }
 },
 "nbformat": 4,
 "nbformat_minor": 5
}
